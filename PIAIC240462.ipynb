{
 "cells": [
  {
   "cell_type": "markdown",
   "metadata": {},
   "source": [
    "Exercise 3-1: Names"
   ]
  },
  {
   "cell_type": "code",
   "execution_count": 12,
   "metadata": {},
   "outputs": [
    {
     "name": "stdout",
     "output_type": "stream",
     "text": [
      "Farhan\n",
      "Yasir\n",
      "Hasan\n",
      "Babar\n"
     ]
    }
   ],
   "source": [
    "#Exercise 3-1: Names\n",
    "#Created a list of names and store some names. Print each person’s name by accessing each element in the list, one at a time.\n",
    "names: list = ['Farhan','Yasir','Hasan','Babar']\n",
    "print(names[0])\n",
    "print(names[1])\n",
    "print(names[2])\n",
    "print(names[3])\n"
   ]
  },
  {
   "cell_type": "markdown",
   "metadata": {},
   "source": [
    "Exercise 3-2: Greetings"
   ]
  },
  {
   "cell_type": "code",
   "execution_count": 13,
   "metadata": {},
   "outputs": [
    {
     "name": "stdout",
     "output_type": "stream",
     "text": [
      "Hello, Farhan! Welcome to the Python Course\n",
      "Hello, Yasir! Welcome to the Python Course\n",
      "Hello, Hasan! Welcome to the Python Course\n",
      "Hello, Babar! Welcome to the Python Course\n",
      "Hello, Farhan! Welcome to the Python Course\n",
      "Hello, Yasir! Welcome to the Python Course\n",
      "Hello, Hasan! Welcome to the Python Course\n",
      "Hello, Babar! Welcome to the Python Course\n"
     ]
    }
   ],
   "source": [
    "#Print a wellcome message to all the persons that are in the names list through index number.\n",
    "print (f\"Hello, {names[0]}! Welcome to the Python Course\")\n",
    "print (f\"Hello, {names[1]}! Welcome to the Python Course\")\n",
    "print (f\"Hello, {names[2]}! Welcome to the Python Course\")\n",
    "print (f\"Hello, {names[3]}! Welcome to the Python Course\")\n",
    "#Also use format method to print same text with all indexes of a list\n",
    "message=(\"Hello, {}! Welcome to the Python Course\")\n",
    "print(message.format(names[0]))\n",
    "print(message.format(names[1]))\n",
    "print(message.format(names[2]))\n",
    "print(message.format(names[3]))"
   ]
  },
  {
   "cell_type": "markdown",
   "metadata": {},
   "source": [
    "Exercise 3-3: Your Own List"
   ]
  },
  {
   "cell_type": "code",
   "execution_count": 10,
   "metadata": {},
   "outputs": [
    {
     "name": "stdout",
     "output_type": "stream",
     "text": [
      "I would like to buy a car.\n",
      "I prefer to by an electric car.\n",
      "I prefer to select blcak color for the car.\n",
      "The car will be all the latest features.\n",
      "I would like to buy a car.\n",
      "I prefer to by an electric car.\n",
      "I prefer to select blcak color for the car.\n",
      "The car will be all the latest features.\n"
     ]
    }
   ],
   "source": [
    "#Make a list and store several items and print multiple statements for each item.\n",
    "car: list=['I would like to buy a car.','I prefer to by an electric car.', 'I prefer to select blcak color for the car.','The car will be all the latest features.']\n",
    "print(car[0])\n",
    "print(car[1])\n",
    "print(car[2])\n",
    "print(car[3])\n",
    "#And also print  all the statements with for loop (in this print the statement via for loop with a temp placeholder variable)\n",
    "for statement in car:\n",
    "    print(statement)"
   ]
  },
  {
   "cell_type": "markdown",
   "metadata": {},
   "source": [
    "Exercise 3-4: Guest List"
   ]
  },
  {
   "cell_type": "code",
   "execution_count": 26,
   "metadata": {},
   "outputs": [
    {
     "name": "stdout",
     "output_type": "stream",
     "text": [
      "Hello! Umer, I would like to invite for the dinner.\n",
      "Hello! Irfan, I would like to invite for the dinner.\n",
      "Hello! Asad, I would like to invite for the dinner.\n",
      "Hello! Umer I would like to invite you for the dinner.\n",
      "Hello! Irfan I would like to invite you for the dinner.\n",
      "Hello! Asad I would like to invite you for the dinner.\n"
     ]
    }
   ],
   "source": [
    "#Create a list and store 3 guest names and print a message for these three names.\n",
    "guests: list=['Umer','Irfan','Asad']\n",
    "print(f\"Hello! {guests[0]}, I would like to invite for the dinner.\")\n",
    "print(f\"Hello! {guests[1]}, I would like to invite for the dinner.\")\n",
    "print(f\"Hello! {guests[2]}, I would like to invite for the dinner.\")\n",
    "#Also use for loop to print invitation message for all the people in the list\n",
    "for invitation in guests:\n",
    "    print(f\"Hello! {invitation} I would like to invite you for the dinner.\")"
   ]
  },
  {
   "cell_type": "markdown",
   "metadata": {},
   "source": [
    "Exercise 3-5: Changing Guest List"
   ]
  },
  {
   "cell_type": "code",
   "execution_count": 40,
   "metadata": {},
   "outputs": [
    {
     "name": "stdout",
     "output_type": "stream",
     "text": [
      "Hello! Umer, I would like to invite for the dinner.\n",
      "Hello! Irfan, I would like to invite for the dinner.\n",
      "Hello! Asad, I would like to invite for the dinner.\n",
      "Mr. Irfan will not attend the dinner\n",
      "Hello! Umer, I would like to invite for the dinner.\n",
      "Hello! Hamza, I would like to invite for the dinner.\n",
      "Hello! Asad, I would like to invite for the dinner.\n"
     ]
    }
   ],
   "source": [
    "#Replace the value of string and through index number and print again\n",
    "guests: list=['Umer','Irfan','Asad']\n",
    "print(f\"Hello! {guests[0]}, I would like to invite for the dinner.\")\n",
    "print(f\"Hello! {guests[1]}, I would like to invite for the dinner.\")\n",
    "print(f\"Hello! {guests[2]}, I would like to invite for the dinner.\")\n",
    "\n",
    "print(\"Mr. Irfan will not attend the dinner\")\n",
    "\n",
    "guests [1]='Hamza'\n",
    "\n",
    "for invitation in guests:\n",
    "    print(f\"Hello! {invitation}, I would like to invite for the dinner.\")\n"
   ]
  },
  {
   "cell_type": "markdown",
   "metadata": {},
   "source": [
    "Exercise 3-6: More Guests"
   ]
  },
  {
   "cell_type": "code",
   "execution_count": 44,
   "metadata": {},
   "outputs": [
    {
     "name": "stdout",
     "output_type": "stream",
     "text": [
      "Hello! Umer, I would like to invite for the dinner.\n",
      "Hello! Irfan, I would like to invite for the dinner.\n",
      "Hello! Asad, I would like to invite for the dinner.\n",
      "Dear All, There are more space availabe So we invite 3 more guest\n",
      "Hello! Umer, I would like to invite for the dinner.\n",
      "Hello! Ahsan, I would like to invite for the dinner.\n",
      "Hello! Adeel, I would like to invite for the dinner.\n",
      "Hello! Irfan, I would like to invite for the dinner.\n",
      "Hello! Asad, I would like to invite for the dinner.\n",
      "Hello! Sohaib, I would like to invite for the dinner.\n"
     ]
    }
   ],
   "source": [
    "#Use insert and append method to change the list for more guest\n",
    "guests: list=['Umer','Irfan','Asad']\n",
    "print(f\"Hello! {guests[0]}, I would like to invite for the dinner.\")\n",
    "print(f\"Hello! {guests[1]}, I would like to invite for the dinner.\")\n",
    "print(f\"Hello! {guests[2]}, I would like to invite for the dinner.\")\n",
    "\n",
    "print(\"Dear All, There are more space availabe So we invite 3 more guest\")\n",
    "\n",
    "guests.insert(1,\"Ahsan\")\n",
    "guests.insert(2,\"Adeel\")\n",
    "guests.append(\"Sohaib\")\n",
    "\n",
    "for invitation in guests:\n",
    "    print(f\"Hello! {invitation}, I would like to invite for the dinner.\")"
   ]
  },
  {
   "cell_type": "markdown",
   "metadata": {},
   "source": [
    "Exercise 3-7: Shrinking Guest List"
   ]
  },
  {
   "cell_type": "code",
   "execution_count": 57,
   "metadata": {},
   "outputs": [
    {
     "name": "stdout",
     "output_type": "stream",
     "text": [
      "Hello! Umer, I would like to invite for the dinner.\n",
      "Hello! Irfan, I would like to invite for the dinner.\n",
      "Hello! Asad, I would like to invite for the dinner.\n",
      "Hello! Irfan, I would like to invite for the dinner.\n",
      "Hello! Asad, I would like to invite for the dinner.\n",
      "Hello! Sohaib, I would like to invite for the dinner.\n",
      "['Umer', 'Ahsan', 'Adeel', 'Irfan', 'Asad', 'Sohaib']\n",
      "Dear All, Unfortunatlly Due to some reasons I can invite only two people for dinner.\n",
      "I am sorry, Sohaib I can’t invite you to dinner.\n",
      "I am sorry, Asad I can’t invite you to dinner.\n",
      "I am sorry, Irfan I can’t invite you to dinner.\n",
      "I am sorry, Adeel I can’t invite you to dinner.\n",
      "['Umer', 'Ahsan']\n",
      "Hello! Umer, You are still invited for the dinner.\n",
      "Hello! Ahsan, You are still invited for the dinner.\n",
      "[]\n"
     ]
    }
   ],
   "source": [
    "#Remove values from list through pop and empty the list with del method\n",
    "guests: list=['Umer','Irfan','Asad']\n",
    "print(f\"Hello! {guests[0]}, I would like to invite for the dinner.\")\n",
    "print(f\"Hello! {guests[1]}, I would like to invite for the dinner.\")\n",
    "print(f\"Hello! {guests[2]}, I would like to invite for the dinner.\")\n",
    "guests.insert(1,\"Ahsan\")\n",
    "guests.insert(2,\"Adeel\")\n",
    "guests.append(\"Sohaib\")\n",
    "print(f\"Hello! {guests[3]}, I would like to invite for the dinner.\")\n",
    "print(f\"Hello! {guests[4]}, I would like to invite for the dinner.\")\n",
    "print(f\"Hello! {guests[5]}, I would like to invite for the dinner.\")\n",
    "print(guests)\n",
    "print(\"Dear All, Unfortunatlly Due to some reasons I can invite only two people for dinner.\")\n",
    "\n",
    "\n",
    "print(f\"I am sorry, {guests[-1]} I can’t invite you to dinner.\")\n",
    "guests.pop()\n",
    "print(f\"I am sorry, {guests[-1]} I can’t invite you to dinner.\")\n",
    "guests.pop()\n",
    "print(f\"I am sorry, {guests[-1]} I can’t invite you to dinner.\")\n",
    "guests.pop()\n",
    "print(f\"I am sorry, {guests[-1]} I can’t invite you to dinner.\")\n",
    "guests.pop()\n",
    "print(guests)\n",
    "print(f\"Hello! {guests[0]}, You are still invited for the dinner.\")\n",
    "print(f\"Hello! {guests[1]}, You are still invited for the dinner.\")\n",
    "del guests [-2:]\n",
    "print(guests)"
   ]
  },
  {
   "cell_type": "markdown",
   "metadata": {},
   "source": [
    "Exercise 3-8: Seeing the World"
   ]
  },
  {
   "cell_type": "code",
   "execution_count": 83,
   "metadata": {},
   "outputs": [
    {
     "name": "stdout",
     "output_type": "stream",
     "text": [
      "['Makkah', 'Instanbul', 'Dubai', 'London', 'Cardiff']\n",
      "['Cardiff', 'Dubai', 'Instanbul', 'London', 'Makkah']\n",
      "['Makkah', 'Instanbul', 'Dubai', 'London', 'Cardiff']\n",
      "['Makkah', 'London', 'Instanbul', 'Dubai', 'Cardiff']\n",
      "['Makkah', 'Instanbul', 'Dubai', 'London', 'Cardiff']\n",
      "['Cardiff', 'London', 'Dubai', 'Instanbul', 'Makkah']\n",
      "['Makkah', 'Instanbul', 'Dubai', 'London', 'Cardiff']\n",
      "['Cardiff', 'Dubai', 'Instanbul', 'London', 'Makkah']\n",
      "['Makkah', 'London', 'Instanbul', 'Dubai', 'Cardiff']\n"
     ]
    }
   ],
   "source": [
    "#Create a list of locations and apply multiple sorted method (sorted,reverse) multiple times and verify\n",
    "locations: list=[\"Makkah\",\"Instanbul\",\"Dubai\",\"London\",\"Cardiff\"]\n",
    "print(locations)\n",
    "print(sorted(locations))\n",
    "print(locations)\n",
    "print(sorted (locations, reverse=True))\n",
    "print(locations)\n",
    "locations.reverse()\n",
    "print(locations)\n",
    "locations.reverse()\n",
    "print(locations)\n",
    "print(sorted(locations))\n",
    "print(sorted (locations, reverse=True))"
   ]
  },
  {
   "cell_type": "markdown",
   "metadata": {},
   "source": [
    "Exercise 3-9: Dinner Guests"
   ]
  },
  {
   "cell_type": "code",
   "execution_count": 88,
   "metadata": {},
   "outputs": [
    {
     "name": "stdout",
     "output_type": "stream",
     "text": [
      "Hello! Umer, I would like to invite for the dinner.\n",
      "Hello! Irfan, I would like to invite for the dinner.\n",
      "Hello! Asad, I would like to invite for the dinner.\n",
      "Dear All, There are more space availabe So we invite 3 more guest\n",
      "Hello! Umer, I would like to invite for the dinner.\n",
      "Hello! Ahsan, I would like to invite for the dinner.\n",
      "Hello! Adeel, I would like to invite for the dinner.\n",
      "Hello! Irfan, I would like to invite for the dinner.\n",
      "Hello! Asad, I would like to invite for the dinner.\n",
      "Hello! Sohaib, I would like to invite for the dinner.\n",
      "The total Number of people for dinner are: 6\n"
     ]
    }
   ],
   "source": [
    "#Use len () method to check the length of list data and verify through print\n",
    "guests: list=['Umer','Irfan','Asad']\n",
    "print(f\"Hello! {guests[0]}, I would like to invite for the dinner.\")\n",
    "print(f\"Hello! {guests[1]}, I would like to invite for the dinner.\")\n",
    "print(f\"Hello! {guests[2]}, I would like to invite for the dinner.\")\n",
    "\n",
    "print(\"Dear All, There are more space availabe So we invite 3 more guest\")\n",
    "\n",
    "guests.insert(1,\"Ahsan\")\n",
    "guests.insert(2,\"Adeel\")\n",
    "guests.append(\"Sohaib\")\n",
    "\n",
    "for invitation in guests:\n",
    "    print(f\"Hello! {invitation}, I would like to invite for the dinner.\")\n",
    "print (f\"The total Number of people for dinner are: {len (guests)}\")"
   ]
  },
  {
   "cell_type": "markdown",
   "metadata": {},
   "source": [
    "Exercise 3-10: Every Function"
   ]
  },
  {
   "cell_type": "code",
   "execution_count": 58,
   "metadata": {},
   "outputs": [
    {
     "name": "stdout",
     "output_type": "stream",
     "text": [
      "['HaiderAbad', 'Karachi', 'Islamabad', 'Lahore', 'Chakwal', 'FaisalAbad']\n",
      "Karachi\n",
      "['Karachi', 'Lahore']\n",
      "['Lahore', 'Karachi', 'Islamabad', 'HaiderAbad', 'FaisalAbad', 'Chakwal']\n",
      "['Chakwal', 'Islamabad', 'Karachi', 'Lahore']\n",
      "4\n",
      "['Lahore', 'Karachi', 'Islamabad', 'Chakwal']\n",
      "[]\n"
     ]
    }
   ],
   "source": [
    "#Write a program that creates a list containing the cities names and then uses different methods on list.\n",
    "cities = [\"HaiderAbad\",\"Karachi\",\"Islamabad\",\"Lahore\",\"Chakwal\",\"FaisalAbad\"]\n",
    "print(cities)\n",
    "print(cities[1])\n",
    "cities.append(\"Gujrat\")\n",
    "cities.insert(-1,\"Multan\")\n",
    "cities.pop()\n",
    "cities.remove(\"Multan\")\n",
    "cities.sort()\n",
    "cities.reverse()\n",
    "newcities=cities.copy()\n",
    "majorcities=cities[1::-1]\n",
    "del cities[4]\n",
    "print(majorcities)\n",
    "print(newcities)\n",
    "cities.remove(\"HaiderAbad\")\n",
    "print(sorted(cities))\n",
    "print(len(cities))\n",
    "print(cities)\n",
    "del(newcities)\n",
    "cities.count(\"Karachi\")\n",
    "cities.clear()\n",
    "print(cities)\n",
    "\n"
   ]
  },
  {
   "cell_type": "markdown",
   "metadata": {},
   "source": [
    "Exercise 3-11: Intentional Error"
   ]
  },
  {
   "cell_type": "code",
   "execution_count": null,
   "metadata": {},
   "outputs": [],
   "source": [
    "#Index error(Intentional error) occer many time when access or use wrong index number\n",
    "print(cities[8])"
   ]
  }
 ],
 "metadata": {
  "kernelspec": {
   "display_name": "Python 3",
   "language": "python",
   "name": "python3"
  },
  "language_info": {
   "codemirror_mode": {
    "name": "ipython",
    "version": 3
   },
   "file_extension": ".py",
   "mimetype": "text/x-python",
   "name": "python",
   "nbconvert_exporter": "python",
   "pygments_lexer": "ipython3",
   "version": "3.8.10"
  }
 },
 "nbformat": 4,
 "nbformat_minor": 2
}
